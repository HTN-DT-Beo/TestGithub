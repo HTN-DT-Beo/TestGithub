{
  "nbformat": 4,
  "nbformat_minor": 0,
  "metadata": {
    "colab": {
      "name": "YOLOv8 Tutorial",
      "provenance": []
    },
    "kernelspec": {
      "name": "python3",
      "display_name": "Python 3"
    },
    "accelerator": "GPU"
  },
  "cells": [
    {
      "cell_type": "code",
      "metadata": {
        "id": "wbvMlHd_QwMG",
        "colab": {
          "base_uri": "https://localhost:8080/"
        },
        "outputId": "9c1a3c50-d2e2-4648-df49-b3df29e80fb6"
      },
      "source": [
        "%pip install ultralytics\n",
        "import ultralytics\n",
        "ultralytics.checks()"
      ],
      "execution_count": 3,
      "outputs": [
        {
          "output_type": "stream",
          "name": "stdout",
          "text": [
            "Ultralytics YOLOv8.1.1 🚀 Python-3.10.12 torch-2.1.0+cu121 CUDA:0 (Tesla T4, 15102MiB)\n",
            "Setup complete ✅ (2 CPUs, 12.7 GB RAM, 26.3/78.2 GB disk)\n"
          ]
        }
      ]
    },
    {
      "cell_type": "markdown",
      "metadata": {
        "id": "4JnkELT0cIJg"
      },
      "source": [
        "# 1. Predict\n",
        "\n",
        "YOLOv8 may be used directly in the Command Line Interface (CLI) with a `yolo` command for a variety of tasks and modes and accepts additional arguments, i.e. `imgsz=640`. See a full list of available `yolo` [arguments](https://docs.ultralytics.com/usage/cfg/) and other details in the [YOLOv8 Predict Docs](https://docs.ultralytics.com/modes/train/).\n"
      ]
    },
    {
      "cell_type": "code",
      "metadata": {
        "id": "zR9ZbuQCH7FX"
      },
      "source": [
        "# Run inference on an image with YOLOv8n\n",
        "!yolo predict model=yolov8n.pt source='https://ultralytics.com/images/zidane.jpg'"
      ],
      "execution_count": null,
      "outputs": []
    },
    {
      "cell_type": "code",
      "source": [
        "!unrar x /content/coco128.rar"
      ],
      "metadata": {
        "id": "vrvrAo_Vymmo"
      },
      "execution_count": null,
      "outputs": []
    },
    {
      "cell_type": "code",
      "metadata": {
        "id": "1NcFxRcFdJ_O",
        "outputId": "78f0b1cb-2e56-43aa-848f-0a93c0371900",
        "colab": {
          "base_uri": "https://localhost:8080/"
        }
      },
      "source": [
        "# Train YOLOv8n on COCO8 for 3 epochs\n",
        "!yolo train model=/content/runs/detect/train2/weights/last.pt data=/content/coco128.yaml epochs=25 imgsz=640"
      ],
      "execution_count": 11,
      "outputs": [
        {
          "output_type": "stream",
          "name": "stdout",
          "text": [
            "Ultralytics YOLOv8.1.1 🚀 Python-3.10.12 torch-2.1.0+cu121 CUDA:0 (Tesla T4, 15102MiB)\n",
            "\u001b[34m\u001b[1mengine/trainer: \u001b[0mtask=detect, mode=train, model=/content/runs/detect/train2/weights/last.pt, data=/content/coco128.yaml, epochs=25, time=None, patience=50, batch=16, imgsz=640, save=True, save_period=-1, cache=False, device=None, workers=8, project=None, name=train3, exist_ok=False, pretrained=True, optimizer=auto, verbose=True, seed=0, deterministic=True, single_cls=False, rect=False, cos_lr=False, close_mosaic=10, resume=False, amp=True, fraction=1.0, profile=False, freeze=None, multi_scale=False, overlap_mask=True, mask_ratio=4, dropout=0.0, val=True, split=val, save_json=False, save_hybrid=False, conf=None, iou=0.7, max_det=300, half=False, dnn=False, plots=True, source=None, vid_stride=1, stream_buffer=False, visualize=False, augment=False, agnostic_nms=False, classes=None, retina_masks=False, embed=None, show=False, save_frames=False, save_txt=False, save_conf=False, save_crop=False, show_labels=True, show_conf=True, show_boxes=True, line_width=None, format=torchscript, keras=False, optimize=False, int8=False, dynamic=False, simplify=False, opset=None, workspace=4, nms=False, lr0=0.01, lrf=0.01, momentum=0.937, weight_decay=0.0005, warmup_epochs=3.0, warmup_momentum=0.8, warmup_bias_lr=0.1, box=7.5, cls=0.5, dfl=1.5, pose=12.0, kobj=1.0, label_smoothing=0.0, nbs=64, hsv_h=0.015, hsv_s=0.7, hsv_v=0.4, degrees=0.0, translate=0.1, scale=0.5, shear=0.0, perspective=0.0, flipud=0.0, fliplr=0.5, mosaic=1.0, mixup=0.0, copy_paste=0.0, auto_augment=randaugment, erasing=0.4, crop_fraction=1.0, cfg=None, tracker=botsort.yaml, save_dir=runs/detect/train3\n",
            "2024-01-15 06:57:35.217114: E external/local_xla/xla/stream_executor/cuda/cuda_dnn.cc:9261] Unable to register cuDNN factory: Attempting to register factory for plugin cuDNN when one has already been registered\n",
            "2024-01-15 06:57:35.217176: E external/local_xla/xla/stream_executor/cuda/cuda_fft.cc:607] Unable to register cuFFT factory: Attempting to register factory for plugin cuFFT when one has already been registered\n",
            "2024-01-15 06:57:35.218605: E external/local_xla/xla/stream_executor/cuda/cuda_blas.cc:1515] Unable to register cuBLAS factory: Attempting to register factory for plugin cuBLAS when one has already been registered\n",
            "\n",
            "                   from  n    params  module                                       arguments                     \n",
            "  0                  -1  1       464  ultralytics.nn.modules.conv.Conv             [3, 16, 3, 2]                 \n",
            "  1                  -1  1      4672  ultralytics.nn.modules.conv.Conv             [16, 32, 3, 2]                \n",
            "  2                  -1  1      7360  ultralytics.nn.modules.block.C2f             [32, 32, 1, True]             \n",
            "  3                  -1  1     18560  ultralytics.nn.modules.conv.Conv             [32, 64, 3, 2]                \n",
            "  4                  -1  2     49664  ultralytics.nn.modules.block.C2f             [64, 64, 2, True]             \n",
            "  5                  -1  1     73984  ultralytics.nn.modules.conv.Conv             [64, 128, 3, 2]               \n",
            "  6                  -1  2    197632  ultralytics.nn.modules.block.C2f             [128, 128, 2, True]           \n",
            "  7                  -1  1    295424  ultralytics.nn.modules.conv.Conv             [128, 256, 3, 2]              \n",
            "  8                  -1  1    460288  ultralytics.nn.modules.block.C2f             [256, 256, 1, True]           \n",
            "  9                  -1  1    164608  ultralytics.nn.modules.block.SPPF            [256, 256, 5]                 \n",
            " 10                  -1  1         0  torch.nn.modules.upsampling.Upsample         [None, 2, 'nearest']          \n",
            " 11             [-1, 6]  1         0  ultralytics.nn.modules.conv.Concat           [1]                           \n",
            " 12                  -1  1    148224  ultralytics.nn.modules.block.C2f             [384, 128, 1]                 \n",
            " 13                  -1  1         0  torch.nn.modules.upsampling.Upsample         [None, 2, 'nearest']          \n",
            " 14             [-1, 4]  1         0  ultralytics.nn.modules.conv.Concat           [1]                           \n",
            " 15                  -1  1     37248  ultralytics.nn.modules.block.C2f             [192, 64, 1]                  \n",
            " 16                  -1  1     36992  ultralytics.nn.modules.conv.Conv             [64, 64, 3, 2]                \n",
            " 17            [-1, 12]  1         0  ultralytics.nn.modules.conv.Concat           [1]                           \n",
            " 18                  -1  1    123648  ultralytics.nn.modules.block.C2f             [192, 128, 1]                 \n",
            " 19                  -1  1    147712  ultralytics.nn.modules.conv.Conv             [128, 128, 3, 2]              \n",
            " 20             [-1, 9]  1         0  ultralytics.nn.modules.conv.Concat           [1]                           \n",
            " 21                  -1  1    493056  ultralytics.nn.modules.block.C2f             [384, 256, 1]                 \n",
            " 22        [15, 18, 21]  1    754237  ultralytics.nn.modules.head.Detect           [15, [64, 128, 256]]          \n",
            "Model summary: 225 layers, 3013773 parameters, 3013757 gradients, 8.2 GFLOPs\n",
            "\n",
            "Transferred 355/355 items from pretrained weights\n",
            "\u001b[34m\u001b[1mTensorBoard: \u001b[0mStart with 'tensorboard --logdir runs/detect/train3', view at http://localhost:6006/\n",
            "Freezing layer 'model.22.dfl.conv.weight'\n",
            "\u001b[34m\u001b[1mAMP: \u001b[0mrunning Automatic Mixed Precision (AMP) checks with YOLOv8n...\n",
            "\u001b[34m\u001b[1mAMP: \u001b[0mchecks passed ✅\n",
            "\u001b[34m\u001b[1mtrain: \u001b[0mScanning /content/coco128/labels/train2017.cache... 1109 images, 58 backgrounds, 0 corrupt: 100% 1167/1167 [00:00<?, ?it/s]\n",
            "\u001b[34m\u001b[1malbumentations: \u001b[0mBlur(p=0.01, blur_limit=(3, 7)), MedianBlur(p=0.01, blur_limit=(3, 7)), ToGray(p=0.01), CLAHE(p=0.01, clip_limit=(1, 4.0), tile_grid_size=(8, 8))\n",
            "\u001b[34m\u001b[1mval: \u001b[0mScanning /content/coco128/labels/train2017.cache... 1109 images, 58 backgrounds, 0 corrupt: 100% 1167/1167 [00:00<?, ?it/s]\n",
            "Plotting labels to runs/detect/train3/labels.jpg... \n",
            "\u001b[34m\u001b[1moptimizer:\u001b[0m 'optimizer=auto' found, ignoring 'lr0=0.01' and 'momentum=0.937' and determining best 'optimizer', 'lr0' and 'momentum' automatically... \n",
            "\u001b[34m\u001b[1moptimizer:\u001b[0m AdamW(lr=0.000526, momentum=0.9) with parameter groups 57 weight(decay=0.0), 64 weight(decay=0.0005), 63 bias(decay=0.0)\n",
            "25 epochs...\n",
            "\n",
            "      Epoch    GPU_mem   box_loss   cls_loss   dfl_loss  Instances       Size\n",
            "       1/25       2.6G     0.7914      1.844      1.161         79        640:  68% 50/73 [00:24<00:09,  2.45it/s]libpng warning: iCCP: known incorrect sRGB profile\n",
            "       1/25       2.6G     0.7783      1.826      1.146         80        640: 100% 73/73 [00:34<00:00,  2.12it/s]\n",
            "                 Class     Images  Instances      Box(P          R      mAP50  mAP50-95):  43% 16/37 [00:07<00:09,  2.22it/s]libpng warning: iCCP: known incorrect sRGB profile\n",
            "                 Class     Images  Instances      Box(P          R      mAP50  mAP50-95): 100% 37/37 [00:18<00:00,  2.01it/s]\n",
            "                   all       1167       2873      0.767      0.731       0.81       0.64\n",
            "\n",
            "      Epoch    GPU_mem   box_loss   cls_loss   dfl_loss  Instances       Size\n",
            "       2/25      2.32G     0.7232      1.554      1.104         76        640:  34% 25/73 [00:08<00:13,  3.49it/s]libpng warning: iCCP: known incorrect sRGB profile\n",
            "       2/25      2.32G      0.756      1.578      1.123         80        640: 100% 73/73 [00:30<00:00,  2.41it/s]\n",
            "                 Class     Images  Instances      Box(P          R      mAP50  mAP50-95):  43% 16/37 [00:05<00:08,  2.60it/s]libpng warning: iCCP: known incorrect sRGB profile\n",
            "                 Class     Images  Instances      Box(P          R      mAP50  mAP50-95): 100% 37/37 [00:15<00:00,  2.40it/s]\n",
            "                   all       1167       2873       0.77      0.722      0.811      0.632\n",
            "\n",
            "      Epoch    GPU_mem   box_loss   cls_loss   dfl_loss  Instances       Size\n",
            "       3/25      2.33G     0.8239      1.581      1.162         79        640:  66% 48/73 [00:18<00:09,  2.54it/s]libpng warning: iCCP: known incorrect sRGB profile\n",
            "       3/25      2.33G     0.8225      1.589      1.162         94        640: 100% 73/73 [00:29<00:00,  2.47it/s]\n",
            "                 Class     Images  Instances      Box(P          R      mAP50  mAP50-95):  43% 16/37 [00:06<00:09,  2.15it/s]libpng warning: iCCP: known incorrect sRGB profile\n",
            "                 Class     Images  Instances      Box(P          R      mAP50  mAP50-95): 100% 37/37 [00:15<00:00,  2.36it/s]\n",
            "                   all       1167       2873       0.73      0.727      0.805      0.616\n",
            "\n",
            "      Epoch    GPU_mem   box_loss   cls_loss   dfl_loss  Instances       Size\n",
            "       4/25      2.32G     0.8235       1.48      1.138         91        640:  74% 54/73 [00:22<00:11,  1.70it/s]libpng warning: iCCP: known incorrect sRGB profile\n",
            "       4/25      2.32G     0.8306      1.498      1.139        109        640: 100% 73/73 [00:29<00:00,  2.48it/s]\n",
            "                 Class     Images  Instances      Box(P          R      mAP50  mAP50-95):  43% 16/37 [00:06<00:12,  1.70it/s]libpng warning: iCCP: known incorrect sRGB profile\n",
            "                 Class     Images  Instances      Box(P          R      mAP50  mAP50-95): 100% 37/37 [00:14<00:00,  2.47it/s]\n",
            "                   all       1167       2873      0.801      0.755      0.844      0.656\n",
            "\n",
            "      Epoch    GPU_mem   box_loss   cls_loss   dfl_loss  Instances       Size\n",
            "       5/25      2.21G     0.8186      1.413      1.142         79        640:  60% 44/73 [00:17<00:09,  3.14it/s]libpng warning: iCCP: known incorrect sRGB profile\n",
            "       5/25      2.32G     0.8262       1.41       1.14         74        640: 100% 73/73 [00:29<00:00,  2.49it/s]\n",
            "                 Class     Images  Instances      Box(P          R      mAP50  mAP50-95):  43% 16/37 [00:07<00:12,  1.73it/s]libpng warning: iCCP: known incorrect sRGB profile\n",
            "                 Class     Images  Instances      Box(P          R      mAP50  mAP50-95): 100% 37/37 [00:14<00:00,  2.47it/s]\n",
            "                   all       1167       2873      0.797      0.781       0.85      0.661\n",
            "\n",
            "      Epoch    GPU_mem   box_loss   cls_loss   dfl_loss  Instances       Size\n",
            "       6/25      2.33G     0.8253      1.372      1.146         84        640:  81% 59/73 [00:24<00:04,  3.46it/s]libpng warning: iCCP: known incorrect sRGB profile\n",
            "       6/25      2.33G     0.8185      1.358      1.144         67        640: 100% 73/73 [00:29<00:00,  2.47it/s]\n",
            "                 Class     Images  Instances      Box(P          R      mAP50  mAP50-95):  43% 16/37 [00:07<00:08,  2.59it/s]libpng warning: iCCP: known incorrect sRGB profile\n",
            "                 Class     Images  Instances      Box(P          R      mAP50  mAP50-95): 100% 37/37 [00:15<00:00,  2.36it/s]\n",
            "                   all       1167       2873      0.815      0.819      0.886      0.698\n",
            "\n",
            "      Epoch    GPU_mem   box_loss   cls_loss   dfl_loss  Instances       Size\n",
            "       7/25      2.32G     0.7778      1.251       1.12         85        640:  85% 62/73 [00:24<00:03,  2.95it/s]libpng warning: iCCP: known incorrect sRGB profile\n",
            "       7/25      2.32G     0.7797      1.246       1.12         59        640: 100% 73/73 [00:29<00:00,  2.49it/s]\n",
            "                 Class     Images  Instances      Box(P          R      mAP50  mAP50-95):  43% 16/37 [00:06<00:07,  2.67it/s]libpng warning: iCCP: known incorrect sRGB profile\n",
            "                 Class     Images  Instances      Box(P          R      mAP50  mAP50-95): 100% 37/37 [00:16<00:00,  2.28it/s]\n",
            "                   all       1167       2873       0.86      0.851      0.923      0.737\n",
            "\n",
            "      Epoch    GPU_mem   box_loss   cls_loss   dfl_loss  Instances       Size\n",
            "       8/25      2.33G     0.7854      1.154      1.138         71        640:  23% 17/73 [00:05<00:20,  2.69it/s]libpng warning: iCCP: known incorrect sRGB profile\n",
            "       8/25      2.33G     0.7892      1.201       1.12         85        640: 100% 73/73 [00:29<00:00,  2.44it/s]\n",
            "                 Class     Images  Instances      Box(P          R      mAP50  mAP50-95):  43% 16/37 [00:05<00:07,  2.79it/s]libpng warning: iCCP: known incorrect sRGB profile\n",
            "                 Class     Images  Instances      Box(P          R      mAP50  mAP50-95): 100% 37/37 [00:15<00:00,  2.41it/s]\n",
            "                   all       1167       2873      0.863      0.855      0.918      0.739\n",
            "\n",
            "      Epoch    GPU_mem   box_loss   cls_loss   dfl_loss  Instances       Size\n",
            "       9/25      2.33G     0.7945      1.139      1.118         71        640:  48% 35/73 [00:13<00:14,  2.62it/s]libpng warning: iCCP: known incorrect sRGB profile\n",
            "       9/25      2.33G     0.7786      1.126      1.114         74        640: 100% 73/73 [00:29<00:00,  2.44it/s]\n",
            "                 Class     Images  Instances      Box(P          R      mAP50  mAP50-95):  43% 16/37 [00:05<00:07,  2.65it/s]libpng warning: iCCP: known incorrect sRGB profile\n",
            "                 Class     Images  Instances      Box(P          R      mAP50  mAP50-95): 100% 37/37 [00:15<00:00,  2.45it/s]\n",
            "                   all       1167       2873      0.888      0.885      0.947       0.77\n",
            "\n",
            "      Epoch    GPU_mem   box_loss   cls_loss   dfl_loss  Instances       Size\n",
            "      10/25      2.33G     0.7665      1.062      1.092         89        640:  34% 25/73 [00:10<00:21,  2.24it/s]libpng warning: iCCP: known incorrect sRGB profile\n",
            "      10/25      2.33G     0.7603       1.06      1.096         93        640: 100% 73/73 [00:30<00:00,  2.40it/s]\n",
            "                 Class     Images  Instances      Box(P          R      mAP50  mAP50-95):  43% 16/37 [00:06<00:12,  1.66it/s]libpng warning: iCCP: known incorrect sRGB profile\n",
            "                 Class     Images  Instances      Box(P          R      mAP50  mAP50-95): 100% 37/37 [00:15<00:00,  2.41it/s]\n",
            "                   all       1167       2873      0.887       0.88       0.95      0.771\n",
            "\n",
            "      Epoch    GPU_mem   box_loss   cls_loss   dfl_loss  Instances       Size\n",
            "      11/25      2.22G     0.7355      1.012      1.085         80        640:  40% 29/73 [00:12<00:14,  2.94it/s]libpng warning: iCCP: known incorrect sRGB profile\n",
            "      11/25      2.22G     0.7406       1.04      1.087        122        640: 100% 73/73 [00:29<00:00,  2.46it/s]\n",
            "                 Class     Images  Instances      Box(P          R      mAP50  mAP50-95):  43% 16/37 [00:07<00:11,  1.86it/s]libpng warning: iCCP: known incorrect sRGB profile\n",
            "                 Class     Images  Instances      Box(P          R      mAP50  mAP50-95): 100% 37/37 [00:15<00:00,  2.40it/s]\n",
            "                   all       1167       2873      0.848      0.862      0.897      0.721\n",
            "\n",
            "      Epoch    GPU_mem   box_loss   cls_loss   dfl_loss  Instances       Size\n",
            "      12/25      2.33G     0.7437      1.002      1.085         76        640:  71% 52/73 [00:21<00:08,  2.58it/s]libpng warning: iCCP: known incorrect sRGB profile\n",
            "      12/25      2.33G     0.7341      1.006       1.08         56        640: 100% 73/73 [00:29<00:00,  2.48it/s]\n",
            "                 Class     Images  Instances      Box(P          R      mAP50  mAP50-95):  43% 16/37 [00:07<00:08,  2.53it/s]libpng warning: iCCP: known incorrect sRGB profile\n",
            "                 Class     Images  Instances      Box(P          R      mAP50  mAP50-95): 100% 37/37 [00:15<00:00,  2.38it/s]\n",
            "                   all       1167       2873        0.9        0.9      0.957      0.787\n",
            "\n",
            "      Epoch    GPU_mem   box_loss   cls_loss   dfl_loss  Instances       Size\n",
            "      13/25      2.33G     0.7323     0.9661      1.057         89        640:   5% 4/73 [00:01<00:21,  3.15it/s]libpng warning: iCCP: known incorrect sRGB profile\n",
            "      13/25      2.33G     0.7322     0.9703      1.072         61        640: 100% 73/73 [00:29<00:00,  2.50it/s]\n",
            "                 Class     Images  Instances      Box(P          R      mAP50  mAP50-95):  43% 16/37 [00:06<00:07,  2.76it/s]libpng warning: iCCP: known incorrect sRGB profile\n",
            "                 Class     Images  Instances      Box(P          R      mAP50  mAP50-95): 100% 37/37 [00:15<00:00,  2.40it/s]\n",
            "                   all       1167       2873      0.924      0.921      0.966      0.791\n",
            "\n",
            "      Epoch    GPU_mem   box_loss   cls_loss   dfl_loss  Instances       Size\n",
            "      14/25      2.33G     0.6907     0.9578      1.073         72        640:  41% 30/73 [00:10<00:14,  3.04it/s]libpng warning: iCCP: known incorrect sRGB profile\n",
            "      14/25      2.33G     0.7176     0.9596      1.083         73        640: 100% 73/73 [00:28<00:00,  2.54it/s]\n",
            "                 Class     Images  Instances      Box(P          R      mAP50  mAP50-95):  43% 16/37 [00:05<00:08,  2.56it/s]libpng warning: iCCP: known incorrect sRGB profile\n",
            "                 Class     Images  Instances      Box(P          R      mAP50  mAP50-95): 100% 37/37 [00:15<00:00,  2.41it/s]\n",
            "                   all       1167       2873      0.908      0.934      0.954      0.786\n",
            "\n",
            "      Epoch    GPU_mem   box_loss   cls_loss   dfl_loss  Instances       Size\n",
            "      15/25      2.33G     0.7061     0.9064      1.063         95        640:  75% 55/73 [00:21<00:06,  2.95it/s]libpng warning: iCCP: known incorrect sRGB profile\n",
            "      15/25      2.33G     0.7088     0.9077      1.064         60        640: 100% 73/73 [00:29<00:00,  2.50it/s]\n",
            "                 Class     Images  Instances      Box(P          R      mAP50  mAP50-95):  41% 15/37 [00:05<00:08,  2.60it/s]libpng warning: iCCP: known incorrect sRGB profile\n",
            "                 Class     Images  Instances      Box(P          R      mAP50  mAP50-95): 100% 37/37 [00:15<00:00,  2.37it/s]\n",
            "                   all       1167       2873      0.936      0.938      0.977      0.821\n",
            "Closing dataloader mosaic\n",
            "\u001b[34m\u001b[1malbumentations: \u001b[0mBlur(p=0.01, blur_limit=(3, 7)), MedianBlur(p=0.01, blur_limit=(3, 7)), ToGray(p=0.01), CLAHE(p=0.01, clip_limit=(1, 4.0), tile_grid_size=(8, 8))\n",
            "\n",
            "      Epoch    GPU_mem   box_loss   cls_loss   dfl_loss  Instances       Size\n",
            "  0% 0/73 [00:00<?, ?it/s]libpng warning: iCCP: known incorrect sRGB profile\n",
            "      16/25      2.33G     0.6348     0.9906      1.026         52        640: 100% 73/73 [00:30<00:00,  2.40it/s]\n",
            "                 Class     Images  Instances      Box(P          R      mAP50  mAP50-95):  43% 16/37 [00:05<00:10,  2.09it/s]libpng warning: iCCP: known incorrect sRGB profile\n",
            "                 Class     Images  Instances      Box(P          R      mAP50  mAP50-95): 100% 37/37 [00:15<00:00,  2.43it/s]\n",
            "                   all       1167       2873      0.934      0.941      0.975      0.818\n",
            "\n",
            "      Epoch    GPU_mem   box_loss   cls_loss   dfl_loss  Instances       Size\n",
            "      17/25      2.21G     0.5962     0.8801      1.005         37        640:  30% 22/73 [00:08<00:24,  2.07it/s]libpng warning: iCCP: known incorrect sRGB profile\n",
            "      17/25      2.21G     0.6267     0.8996      1.012         42        640: 100% 73/73 [00:27<00:00,  2.61it/s]\n",
            "                 Class     Images  Instances      Box(P          R      mAP50  mAP50-95):  43% 16/37 [00:05<00:10,  1.93it/s]libpng warning: iCCP: known incorrect sRGB profile\n",
            "                 Class     Images  Instances      Box(P          R      mAP50  mAP50-95): 100% 37/37 [00:14<00:00,  2.52it/s]\n",
            "                   all       1167       2873      0.937      0.943      0.973      0.814\n",
            "\n",
            "      Epoch    GPU_mem   box_loss   cls_loss   dfl_loss  Instances       Size\n",
            "      18/25      2.33G     0.6072     0.8539      1.007         41        640:  70% 51/73 [00:19<00:10,  2.08it/s]libpng warning: iCCP: known incorrect sRGB profile\n",
            "      18/25      2.33G     0.6099     0.8488      1.008         48        640: 100% 73/73 [00:27<00:00,  2.62it/s]\n",
            "                 Class     Images  Instances      Box(P          R      mAP50  mAP50-95):  46% 17/37 [00:06<00:08,  2.38it/s]libpng warning: iCCP: known incorrect sRGB profile\n",
            "                 Class     Images  Instances      Box(P          R      mAP50  mAP50-95): 100% 37/37 [00:15<00:00,  2.43it/s]\n",
            "                   all       1167       2873      0.933      0.951      0.976      0.821\n",
            "\n",
            "      Epoch    GPU_mem   box_loss   cls_loss   dfl_loss  Instances       Size\n",
            "      19/25      2.33G     0.6058     0.8244     0.9908         25        640:  95% 69/73 [00:26<00:01,  3.10it/s]libpng warning: iCCP: known incorrect sRGB profile\n",
            "      19/25      2.33G     0.6054     0.8231     0.9898         35        640: 100% 73/73 [00:27<00:00,  2.61it/s]\n",
            "                 Class     Images  Instances      Box(P          R      mAP50  mAP50-95):  43% 16/37 [00:05<00:08,  2.40it/s]libpng warning: iCCP: known incorrect sRGB profile\n",
            "                 Class     Images  Instances      Box(P          R      mAP50  mAP50-95): 100% 37/37 [00:15<00:00,  2.45it/s]\n",
            "                   all       1167       2873      0.944      0.944      0.974      0.826\n",
            "\n",
            "      Epoch    GPU_mem   box_loss   cls_loss   dfl_loss  Instances       Size\n",
            "      20/25      2.33G     0.5815     0.7537     0.9641         39        640:  58% 42/73 [00:15<00:10,  2.87it/s]libpng warning: iCCP: known incorrect sRGB profile\n",
            "      20/25      2.33G     0.5913     0.7613     0.9805         26        640: 100% 73/73 [00:27<00:00,  2.64it/s]\n",
            "                 Class     Images  Instances      Box(P          R      mAP50  mAP50-95):  43% 16/37 [00:06<00:10,  1.95it/s]libpng warning: iCCP: known incorrect sRGB profile\n",
            "                 Class     Images  Instances      Box(P          R      mAP50  mAP50-95): 100% 37/37 [00:15<00:00,  2.44it/s]\n",
            "                   all       1167       2873      0.943      0.959      0.979      0.836\n",
            "\n",
            "      Epoch    GPU_mem   box_loss   cls_loss   dfl_loss  Instances       Size\n",
            "      21/25      2.33G       0.57     0.7569     0.9761         23        640:  66% 48/73 [00:17<00:07,  3.14it/s]libpng warning: iCCP: known incorrect sRGB profile\n",
            "      21/25      2.33G     0.5773      0.774     0.9817         40        640: 100% 73/73 [00:28<00:00,  2.60it/s]\n",
            "                 Class     Images  Instances      Box(P          R      mAP50  mAP50-95):  46% 17/37 [00:06<00:08,  2.23it/s]libpng warning: iCCP: known incorrect sRGB profile\n",
            "                 Class     Images  Instances      Box(P          R      mAP50  mAP50-95): 100% 37/37 [00:15<00:00,  2.46it/s]\n",
            "                   all       1167       2873      0.944      0.966      0.977      0.837\n",
            "\n",
            "      Epoch    GPU_mem   box_loss   cls_loss   dfl_loss  Instances       Size\n",
            "      22/25      2.33G     0.5547     0.7135     0.9693         48        640:  40% 29/73 [00:11<00:15,  2.82it/s]libpng warning: iCCP: known incorrect sRGB profile\n",
            "      22/25      2.33G     0.5702     0.7362     0.9799         34        640: 100% 73/73 [00:28<00:00,  2.57it/s]\n",
            "                 Class     Images  Instances      Box(P          R      mAP50  mAP50-95):  46% 17/37 [00:06<00:09,  2.05it/s]libpng warning: iCCP: known incorrect sRGB profile\n",
            "                 Class     Images  Instances      Box(P          R      mAP50  mAP50-95): 100% 37/37 [00:15<00:00,  2.45it/s]\n",
            "                   all       1167       2873      0.945      0.968       0.98      0.841\n",
            "\n",
            "      Epoch    GPU_mem   box_loss   cls_loss   dfl_loss  Instances       Size\n",
            "      23/25      2.33G     0.5691     0.6844     0.9581         44        640:  22% 16/73 [00:06<00:36,  1.56it/s]libpng warning: iCCP: known incorrect sRGB profile\n",
            "      23/25      2.33G     0.5499      0.682     0.9603         46        640: 100% 73/73 [00:28<00:00,  2.60it/s]\n",
            "                 Class     Images  Instances      Box(P          R      mAP50  mAP50-95):   0% 0/37 [00:00<?, ?it/s]libpng warning: iCCP: known incorrect sRGB profile\n",
            "                 Class     Images  Instances      Box(P          R      mAP50  mAP50-95):  43% 16/37 [00:06<00:11,  1.81it/s]libpng warning: iCCP: known incorrect sRGB profile\n",
            "                 Class     Images  Instances      Box(P          R      mAP50  mAP50-95): 100% 37/37 [00:15<00:00,  2.39it/s]\n",
            "                   all       1167       2873      0.958      0.967      0.984      0.849\n",
            "\n",
            "      Epoch    GPU_mem   box_loss   cls_loss   dfl_loss  Instances       Size\n",
            "      24/25      2.32G     0.5491     0.6798     0.9643         42        640: 100% 73/73 [00:27<00:00,  2.63it/s]\n",
            "                 Class     Images  Instances      Box(P          R      mAP50  mAP50-95):  43% 16/37 [00:06<00:10,  2.04it/s]libpng warning: iCCP: known incorrect sRGB profile\n",
            "                 Class     Images  Instances      Box(P          R      mAP50  mAP50-95): 100% 37/37 [00:15<00:00,  2.44it/s]\n",
            "                   all       1167       2873      0.958       0.97      0.985      0.848\n",
            "\n",
            "      Epoch    GPU_mem   box_loss   cls_loss   dfl_loss  Instances       Size\n",
            "      25/25      2.33G     0.5591     0.6558     0.9484         46        640:  41% 30/73 [00:11<00:15,  2.69it/s]libpng warning: iCCP: known incorrect sRGB profile\n",
            "      25/25      2.33G     0.5413     0.6507     0.9487         62        640:  97% 71/73 [00:27<00:00,  3.35it/s]libpng warning: iCCP: known incorrect sRGB profile\n",
            "      25/25      2.33G     0.5439     0.6511     0.9493         39        640: 100% 73/73 [00:28<00:00,  2.60it/s]\n",
            "                 Class     Images  Instances      Box(P          R      mAP50  mAP50-95):  43% 16/37 [00:06<00:12,  1.74it/s]libpng warning: iCCP: known incorrect sRGB profile\n",
            "                 Class     Images  Instances      Box(P          R      mAP50  mAP50-95): 100% 37/37 [00:15<00:00,  2.44it/s]\n",
            "                   all       1167       2873      0.965       0.97      0.987      0.862\n",
            "\n",
            "25 epochs completed in 0.319 hours.\n",
            "Optimizer stripped from runs/detect/train3/weights/last.pt, 6.2MB\n",
            "Optimizer stripped from runs/detect/train3/weights/best.pt, 6.2MB\n",
            "\n",
            "Validating runs/detect/train3/weights/best.pt...\n",
            "Ultralytics YOLOv8.1.1 🚀 Python-3.10.12 torch-2.1.0+cu121 CUDA:0 (Tesla T4, 15102MiB)\n",
            "Model summary (fused): 168 layers, 3008573 parameters, 0 gradients, 8.1 GFLOPs\n",
            "                 Class     Images  Instances      Box(P          R      mAP50  mAP50-95):  43% 16/37 [00:09<00:08,  2.46it/s]libpng warning: iCCP: known incorrect sRGB profile\n",
            "                 Class     Images  Instances      Box(P          R      mAP50  mAP50-95): 100% 37/37 [00:18<00:00,  1.98it/s]\n",
            "                   all       1167       2873      0.965       0.97      0.987      0.862\n",
            "                Dualeo       1167        213      0.986      0.972      0.993      0.841\n",
            "                   Tao       1167        245      0.977      0.988      0.995      0.908\n",
            "                  Kiwi       1167        273      0.973      0.982      0.992      0.872\n",
            "                 Chuoi       1167        169      0.955      0.953      0.982      0.836\n",
            "                   Cam       1167        267      0.956       0.97      0.991      0.889\n",
            "                   Dua       1167        164      0.983      0.988      0.994      0.917\n",
            "                   Dao       1167        224      0.955      0.978      0.993      0.874\n",
            "                 Chery       1167        154      0.855      0.896      0.929      0.756\n",
            "                    Le       1167        191      0.973       0.99      0.993      0.865\n",
            "                   Luu       1167        181      0.958          1      0.988      0.847\n",
            "                  Thom       1167        146      0.979       0.96      0.993      0.835\n",
            "                Duahau       1167        120      0.977      0.967      0.992      0.928\n",
            "               Dualuoi       1167        134      0.971      0.978      0.992      0.932\n",
            "                   Nho       1167        130          1      0.943      0.993       0.83\n",
            "                   Dau       1167        262      0.981      0.982      0.992      0.803\n",
            "Speed: 0.2ms preprocess, 2.3ms inference, 0.0ms loss, 3.0ms postprocess per image\n",
            "Results saved to \u001b[1mruns/detect/train3\u001b[0m\n",
            "💡 Learn more at https://docs.ultralytics.com/modes/train\n"
          ]
        }
      ]
    },
    {
      "cell_type": "code",
      "source": [
        "# Run inference on an image with YOLOv8n\n",
        "!yolo predict model=/content/runs/detect/train3/weights/best.pt source='/content/test.jpg'"
      ],
      "metadata": {
        "colab": {
          "base_uri": "https://localhost:8080/"
        },
        "id": "z163Uw0Z542J",
        "outputId": "1b9ef587-009c-48ef-b1f6-73ba9436ea08"
      },
      "execution_count": 12,
      "outputs": [
        {
          "output_type": "stream",
          "name": "stdout",
          "text": [
            "Ultralytics YOLOv8.1.1 🚀 Python-3.10.12 torch-2.1.0+cu121 CUDA:0 (Tesla T4, 15102MiB)\n",
            "Model summary (fused): 168 layers, 3008573 parameters, 0 gradients, 8.1 GFLOPs\n",
            "\n",
            "WARNING ⚠️ NMS time limit 0.550s exceeded\n",
            "image 1/1 /content/test.jpg: 448x640 5 Taos, 122.2ms\n",
            "Speed: 5.1ms preprocess, 122.2ms inference, 721.6ms postprocess per image at shape (1, 3, 448, 640)\n",
            "Results saved to \u001b[1mruns/detect/predict3\u001b[0m\n",
            "💡 Learn more at https://docs.ultralytics.com/modes/predict\n"
          ]
        }
      ]
    },
    {
      "cell_type": "markdown",
      "source": [
        "# 4. Export\n",
        "\n",
        "Export a YOLOv8 model to any supported format below with the `format` argument, i.e. `format=onnx`. See [YOLOv8 Export Docs](https://docs.ultralytics.com/modes/export/) for more information.\n",
        "\n",
        "- 💡 ProTip: Export to [ONNX](https://onnx.ai/) or [OpenVINO](https://docs.openvino.ai/latest/index.html) for up to 3x CPU speedup.  \n",
        "- 💡 ProTip: Export to [TensorRT](https://developer.nvidia.com/tensorrt) for up to 5x GPU speedup.\n",
        "\n",
        "\n",
        "| Format                                                             | `format` Argument | Model                     | Metadata | Arguments                                           |\n",
        "|--------------------------------------------------------------------|-------------------|---------------------------|----------|-----------------------------------------------------|\n",
        "| [PyTorch](https://pytorch.org/)                                    | -                 | `yolov8n.pt`              | ✅        | -                                                   |\n",
        "| [TorchScript](https://pytorch.org/docs/stable/jit.html)            | `torchscript`     | `yolov8n.torchscript`     | ✅        | `imgsz`, `optimize`                                 |\n",
        "| [ONNX](https://onnx.ai/)                                           | `onnx`            | `yolov8n.onnx`            | ✅        | `imgsz`, `half`, `dynamic`, `simplify`, `opset`     |\n",
        "| [OpenVINO](https://docs.openvino.ai/latest/index.html)             | `openvino`        | `yolov8n_openvino_model/` | ✅        | `imgsz`, `half`, `int8`                             |\n",
        "| [TensorRT](https://developer.nvidia.com/tensorrt)                  | `engine`          | `yolov8n.engine`          | ✅        | `imgsz`, `half`, `dynamic`, `simplify`, `workspace` |\n",
        "| [CoreML](https://github.com/apple/coremltools)                     | `coreml`          | `yolov8n.mlpackage`       | ✅        | `imgsz`, `half`, `int8`, `nms`                      |\n",
        "| [TF SavedModel](https://www.tensorflow.org/guide/saved_model)      | `saved_model`     | `yolov8n_saved_model/`    | ✅        | `imgsz`, `keras`, `int8`                            |\n",
        "| [TF GraphDef](https://www.tensorflow.org/api_docs/python/tf/Graph) | `pb`              | `yolov8n.pb`              | ❌        | `imgsz`                                             |\n",
        "| [TF Lite](https://www.tensorflow.org/lite)                         | `tflite`          | `yolov8n.tflite`          | ✅        | `imgsz`, `half`, `int8`                             |\n",
        "| [TF Edge TPU](https://coral.ai/docs/edgetpu/models-intro/)         | `edgetpu`         | `yolov8n_edgetpu.tflite`  | ✅        | `imgsz`                                             |\n",
        "| [TF.js](https://www.tensorflow.org/js)                             | `tfjs`            | `yolov8n_web_model/`      | ✅        | `imgsz`                                             |\n",
        "| [PaddlePaddle](https://github.com/PaddlePaddle)                    | `paddle`          | `yolov8n_paddle_model/`   | ✅        | `imgsz`                                             |\n",
        "| [ncnn](https://github.com/Tencent/ncnn)                            | `ncnn`            | `yolov8n_ncnn_model/`     | ✅        | `imgsz`, `half`                                     |\n"
      ],
      "metadata": {
        "id": "nPZZeNrLCQG6"
      }
    },
    {
      "cell_type": "code",
      "source": [
        "!yolo export model=yolov8n.pt format=torchscript"
      ],
      "metadata": {
        "colab": {
          "base_uri": "https://localhost:8080/"
        },
        "id": "CYIjW4igCjqD",
        "outputId": "2b65e381-717b-4a6f-d6f5-5254c867f3a4"
      },
      "execution_count": null,
      "outputs": [
        {
          "output_type": "stream",
          "name": "stdout",
          "text": [
            "Ultralytics YOLOv8.0.145 🚀 Python-3.10.6 torch-2.0.1+cu118 CPU (Intel Xeon 2.30GHz)\n",
            "YOLOv8n summary (fused): 168 layers, 3151904 parameters, 0 gradients\n",
            "\n",
            "\u001b[34m\u001b[1mPyTorch:\u001b[0m starting from 'yolov8n.pt' with input shape (1, 3, 640, 640) BCHW and output shape(s) (1, 84, 8400) (6.2 MB)\n",
            "\n",
            "\u001b[34m\u001b[1mTorchScript:\u001b[0m starting export with torch 2.0.1+cu118...\n",
            "\u001b[34m\u001b[1mTorchScript:\u001b[0m export success ✅ 2.8s, saved as 'yolov8n.torchscript' (12.4 MB)\n",
            "\n",
            "Export complete (4.6s)\n",
            "Results saved to \u001b[1m/content\u001b[0m\n",
            "Predict:         yolo predict task=detect model=yolov8n.torchscript imgsz=640 \n",
            "Validate:        yolo val task=detect model=yolov8n.torchscript imgsz=640 data=None \n",
            "Visualize:       https://netron.app\n"
          ]
        }
      ]
    },
    {
      "cell_type": "markdown",
      "source": [
        "# 5. Python Usage\n",
        "\n",
        "YOLOv8 was reimagined using Python-first principles for the most seamless Python YOLO experience yet. YOLOv8 models can be loaded from a trained checkpoint or created from scratch. Then methods are used to train, val, predict, and export the model. See detailed Python usage examples in the [YOLOv8 Python Docs](https://docs.ultralytics.com/usage/python/)."
      ],
      "metadata": {
        "id": "kUMOQ0OeDBJG"
      }
    },
    {
      "cell_type": "code",
      "source": [
        "from ultralytics import YOLO\n",
        "\n",
        "# Load a model\n",
        "model = YOLO('yolov8n.yaml')  # build a new model from scratch\n",
        "model = YOLO('yolov8n.pt')  # load a pretrained model (recommended for training)\n",
        "\n",
        "# Use the model\n",
        "results = model.train(data='coco128.yaml', epochs=3)  # train the model\n",
        "results = model.val()  # evaluate model performance on the validation set\n",
        "results = model('https://ultralytics.com/images/bus.jpg')  # predict on an image\n",
        "results = model.export(format='onnx')  # export the model to ONNX format"
      ],
      "metadata": {
        "id": "bpF9-vS_DAaf"
      },
      "execution_count": null,
      "outputs": []
    },
    {
      "cell_type": "markdown",
      "source": [
        "# 6. Tasks\n",
        "\n",
        "YOLOv8 can train, val, predict and export models for the most common tasks in vision AI: [Detect](https://docs.ultralytics.com/tasks/detect/), [Segment](https://docs.ultralytics.com/tasks/segment/), [Classify](https://docs.ultralytics.com/tasks/classify/) and [Pose](https://docs.ultralytics.com/tasks/pose/). See [YOLOv8 Tasks Docs](https://docs.ultralytics.com/tasks/) for more information.\n",
        "\n",
        "<br><img width=\"1024\" src=\"https://raw.githubusercontent.com/ultralytics/assets/main/im/banner-tasks.png\">\n"
      ],
      "metadata": {
        "id": "Phm9ccmOKye5"
      }
    },
    {
      "cell_type": "markdown",
      "source": [
        "## 1. Detection\n",
        "\n",
        "YOLOv8 _detection_ models have no suffix and are the default YOLOv8 models, i.e. `yolov8n.pt` and are pretrained on COCO. See [Detection Docs](https://docs.ultralytics.com/tasks/detect/) for full details.\n"
      ],
      "metadata": {
        "id": "yq26lwpYK1lq"
      }
    },
    {
      "cell_type": "code",
      "source": [
        "# Load YOLOv8n, train it on COCO128 for 3 epochs and predict an image with it\n",
        "from ultralytics import YOLO\n",
        "\n",
        "model = YOLO('yolov8n.pt')  # load a pretrained YOLOv8n detection model\n",
        "model.train(data='coco128.yaml', epochs=3)  # train the model\n",
        "model('https://ultralytics.com/images/bus.jpg')  # predict on an image"
      ],
      "metadata": {
        "id": "8Go5qqS9LbC5"
      },
      "execution_count": null,
      "outputs": []
    },
    {
      "cell_type": "markdown",
      "source": [
        "## 2. Segmentation\n",
        "\n",
        "YOLOv8 _segmentation_ models use the `-seg` suffix, i.e. `yolov8n-seg.pt` and are pretrained on COCO. See [Segmentation Docs](https://docs.ultralytics.com/tasks/segment/) for full details.\n"
      ],
      "metadata": {
        "id": "7ZW58jUzK66B"
      }
    },
    {
      "cell_type": "code",
      "source": [
        "# Load YOLOv8n-seg, train it on COCO128-seg for 3 epochs and predict an image with it\n",
        "from ultralytics import YOLO\n",
        "\n",
        "model = YOLO('yolov8n-seg.pt')  # load a pretrained YOLOv8n segmentation model\n",
        "model.train(data='coco128-seg.yaml', epochs=3)  # train the model\n",
        "model('https://ultralytics.com/images/bus.jpg')  # predict on an image"
      ],
      "metadata": {
        "id": "WFPJIQl_L5HT"
      },
      "execution_count": null,
      "outputs": []
    },
    {
      "cell_type": "markdown",
      "source": [
        "## 3. Classification\n",
        "\n",
        "YOLOv8 _classification_ models use the `-cls` suffix, i.e. `yolov8n-cls.pt` and are pretrained on ImageNet. See [Classification Docs](https://docs.ultralytics.com/tasks/classify/) for full details.\n"
      ],
      "metadata": {
        "id": "ax3p94VNK9zR"
      }
    },
    {
      "cell_type": "code",
      "source": [
        "# Load YOLOv8n-cls, train it on mnist160 for 3 epochs and predict an image with it\n",
        "from ultralytics import YOLO\n",
        "\n",
        "model = YOLO('yolov8n-cls.pt')  # load a pretrained YOLOv8n classification model\n",
        "model.train(data='mnist160', epochs=3)  # train the model\n",
        "model('https://ultralytics.com/images/bus.jpg')  # predict on an image"
      ],
      "metadata": {
        "id": "5q9Zu6zlL5rS"
      },
      "execution_count": null,
      "outputs": []
    },
    {
      "cell_type": "markdown",
      "source": [
        "## 4. Pose\n",
        "\n",
        "YOLOv8 _pose_ models use the `-pose` suffix, i.e. `yolov8n-pose.pt` and are pretrained on COCO Keypoints. See [Pose Docs](https://docs.ultralytics.com/tasks/pose/) for full details."
      ],
      "metadata": {
        "id": "SpIaFLiO11TG"
      }
    },
    {
      "cell_type": "code",
      "source": [
        "# Load YOLOv8n-pose, train it on COCO8-pose for 3 epochs and predict an image with it\n",
        "from ultralytics import YOLO\n",
        "\n",
        "model = YOLO('yolov8n-pose.pt')  # load a pretrained YOLOv8n classification model\n",
        "model.train(data='coco8-pose.yaml', epochs=3)  # train the model\n",
        "model('https://ultralytics.com/images/bus.jpg')  # predict on an image"
      ],
      "metadata": {
        "id": "si4aKFNg19vX"
      },
      "execution_count": null,
      "outputs": []
    },
    {
      "cell_type": "markdown",
      "metadata": {
        "id": "IEijrePND_2I"
      },
      "source": [
        "# Appendix\n",
        "\n",
        "Additional content below."
      ]
    },
    {
      "cell_type": "code",
      "source": [
        "# Pip install from source\n",
        "!pip install git+https://github.com/ultralytics/ultralytics@main"
      ],
      "metadata": {
        "id": "pIdE6i8C3LYp"
      },
      "execution_count": null,
      "outputs": []
    },
    {
      "cell_type": "code",
      "source": [
        "# Git clone and run tests on updates branch\n",
        "!git clone https://github.com/ultralytics/ultralytics -b main\n",
        "%pip install -qe ultralytics"
      ],
      "metadata": {
        "id": "uRKlwxSJdhd1"
      },
      "execution_count": null,
      "outputs": []
    },
    {
      "cell_type": "code",
      "source": [
        "# Run tests (Git clone only)\n",
        "!pytest ultralytics/tests"
      ],
      "metadata": {
        "id": "GtPlh7mcCGZX"
      },
      "execution_count": null,
      "outputs": []
    },
    {
      "cell_type": "code",
      "source": [
        "# Validate multiple models\n",
        "for x in 'nsmlx':\n",
        "  !yolo val model=yolov8{x}.pt data=coco.yaml"
      ],
      "metadata": {
        "id": "Wdc6t_bfzDDk"
      },
      "execution_count": null,
      "outputs": []
    }
  ]
}